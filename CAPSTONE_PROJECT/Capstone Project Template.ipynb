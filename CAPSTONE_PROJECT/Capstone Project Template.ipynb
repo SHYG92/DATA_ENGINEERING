{
 "cells": [
  {
   "cell_type": "markdown",
   "metadata": {},
   "source": [
    "# Chicago Crimes Data Model\n",
    "### Data Engineering Capstone Project\n",
    "\n",
    "#### Project Summary\n",
    "the aim of this project is to build single-source-of-truth to help perform further analysis and visualization regarding Chicago crimes from the period 2001 till 2022.\n",
    "\n",
    "The project follows the follow steps:\n",
    "* Step 1: Scope the Project and Gather Data\n",
    "* Step 2: Explore and Assess the Data\n",
    "* Step 3: Define the Data Model\n",
    "* Step 4: Run ETL to Model the Data\n",
    "* Step 5: Complete Project Write Up"
   ]
  },
  {
   "cell_type": "code",
   "execution_count": 1,
   "metadata": {},
   "outputs": [],
   "source": [
    "# Do all imports and installs here\n",
    "import os\n",
    "import pandas as pd\n",
    "import json\n",
    "import pyspark\n",
    "from pyspark import SparkContext \n",
    "from pyspark.sql import SparkSession, SQLContext\n",
    "from pyspark.sql.types import StructType, StructField, StringType, IntegerType, DateType\n",
    "from pyspark.sql.functions import col, max, sum\n",
    "from pyspark.sql.window import Window\n",
    "from pyspark.sql.functions import monotonically_increasing_id, row_number\n",
    "from pyspark.sql.functions import lit"
   ]
  },
  {
   "cell_type": "code",
   "execution_count": 2,
   "metadata": {},
   "outputs": [],
   "source": [
    "from pyspark import SparkConf\n",
    "from pyspark import SparkContext\n",
    "sc = SparkContext.getOrCreate(SparkConf().setMaster(\"local[*]\"))"
   ]
  },
  {
   "cell_type": "markdown",
   "metadata": {},
   "source": [
    "### Step 1: Scope the Project and Gather Data\n",
    "\n",
    "#### Scope \n",
    "in this project, we'll establish a data model to prepare data for further analysis.\n",
    "this will be done by extracting, joining and forming the corresponding tables (Districts, Primary Type Dimensions and Crimes Fact table).\n",
    "\n",
    "tools used in this project:\n",
    "- Jupyter Notebook.\n",
    "- Python.\n",
    "- PySpark library.\n",
    "\n",
    "#### Describe and Gather Data \n",
    "##### Chicago CrimeLocation data - CSV file:\n",
    "- crimes grouped by year and primary_type of each crime with its count.\n",
    "- Source: https://www.kaggle.com/datasets/elijahtoumoua/chicago-analysis-of-crime-data-dashboard?select=CrimeLocation.csv\n",
    "\n",
    "##### Chicago districts data - JSON file:\n",
    "- this file has chicago districts' names.\n",
    "- Source: https://data.cityofchicago.org/api/views/zidz-sdfj/rows.json?accessType=DOWNLOAD"
   ]
  },
  {
   "cell_type": "code",
   "execution_count": 3,
   "metadata": {},
   "outputs": [],
   "source": [
    "spark = SparkSession.builder.appName('SparkByExamples.com').getOrCreate()"
   ]
  },
  {
   "cell_type": "code",
   "execution_count": 4,
   "metadata": {},
   "outputs": [
    {
     "name": "stdout",
     "output_type": "stream",
     "text": [
      "root\n",
      " |-- year: integer (nullable = true)\n",
      " |-- district: integer (nullable = true)\n",
      " |-- latitude: double (nullable = true)\n",
      " |-- longitude: double (nullable = true)\n",
      " |-- primary_type: string (nullable = true)\n",
      " |-- crime_count: integer (nullable = true)\n",
      "\n"
     ]
    }
   ],
   "source": [
    "# Chicago CrimeLocation data\n",
    "locations_df = spark.read.csv(\"Datasets/CrimeLocation.csv\",\n",
    "                              header='true',\n",
    "                              inferSchema='true')\n",
    "locations_df.printSchema()"
   ]
  },
  {
   "cell_type": "code",
   "execution_count": 5,
   "metadata": {},
   "outputs": [
    {
     "data": {
      "text/plain": [
       "5417807"
      ]
     },
     "execution_count": 5,
     "metadata": {},
     "output_type": "execute_result"
    }
   ],
   "source": [
    "locations_df.count()"
   ]
  },
  {
   "cell_type": "code",
   "execution_count": 6,
   "metadata": {},
   "outputs": [
    {
     "data": {
      "text/html": [
       "<div>\n",
       "<style scoped>\n",
       "    .dataframe tbody tr th:only-of-type {\n",
       "        vertical-align: middle;\n",
       "    }\n",
       "\n",
       "    .dataframe tbody tr th {\n",
       "        vertical-align: top;\n",
       "    }\n",
       "\n",
       "    .dataframe thead th {\n",
       "        text-align: right;\n",
       "    }\n",
       "</style>\n",
       "<table border=\"1\" class=\"dataframe\">\n",
       "  <thead>\n",
       "    <tr style=\"text-align: right;\">\n",
       "      <th></th>\n",
       "      <th>sid</th>\n",
       "      <th>id</th>\n",
       "      <th>position</th>\n",
       "      <th>created_at</th>\n",
       "      <th>created_meta</th>\n",
       "      <th>updated_at</th>\n",
       "      <th>updated_meta</th>\n",
       "      <th>meta</th>\n",
       "      <th>district_name</th>\n",
       "      <th>designation_date</th>\n",
       "    </tr>\n",
       "  </thead>\n",
       "  <tbody>\n",
       "    <tr>\n",
       "      <th>0</th>\n",
       "      <td>row-kyf5_yb7r.vrwc</td>\n",
       "      <td>00000000-0000-0000-E6B2-7767EA2D2877</td>\n",
       "      <td>0</td>\n",
       "      <td>1566178027</td>\n",
       "      <td>None</td>\n",
       "      <td>1566178027</td>\n",
       "      <td>None</td>\n",
       "      <td>{ }</td>\n",
       "      <td>Old Town Triangle</td>\n",
       "      <td>244278000</td>\n",
       "    </tr>\n",
       "    <tr>\n",
       "      <th>1</th>\n",
       "      <td>row-g4ak.p5ja.8pv8</td>\n",
       "      <td>00000000-0000-0000-2D36-D11E47447804</td>\n",
       "      <td>0</td>\n",
       "      <td>1566178027</td>\n",
       "      <td>None</td>\n",
       "      <td>1566178027</td>\n",
       "      <td>None</td>\n",
       "      <td>{ }</td>\n",
       "      <td>Milwaukee Avenue</td>\n",
       "      <td>1207724400</td>\n",
       "    </tr>\n",
       "    <tr>\n",
       "      <th>2</th>\n",
       "      <td>row-shrt~gdnn~3kcf</td>\n",
       "      <td>00000000-0000-0000-9B11-357FA5616303</td>\n",
       "      <td>0</td>\n",
       "      <td>1566178027</td>\n",
       "      <td>None</td>\n",
       "      <td>1566178027</td>\n",
       "      <td>None</td>\n",
       "      <td>{ }</td>\n",
       "      <td>Astor Street</td>\n",
       "      <td>188208000</td>\n",
       "    </tr>\n",
       "    <tr>\n",
       "      <th>3</th>\n",
       "      <td>row-vapw~nh6d_sywy</td>\n",
       "      <td>00000000-0000-0000-7C6C-ACED956B631A</td>\n",
       "      <td>0</td>\n",
       "      <td>1566178027</td>\n",
       "      <td>None</td>\n",
       "      <td>1566178027</td>\n",
       "      <td>None</td>\n",
       "      <td>{ }</td>\n",
       "      <td>Beverly/Morgan Park Railroad Stations</td>\n",
       "      <td>797929200</td>\n",
       "    </tr>\n",
       "    <tr>\n",
       "      <th>4</th>\n",
       "      <td>row-hmi5~yp2s.6ttw</td>\n",
       "      <td>00000000-0000-0000-EC91-F9519EBE1B46</td>\n",
       "      <td>0</td>\n",
       "      <td>1566178027</td>\n",
       "      <td>None</td>\n",
       "      <td>1566178027</td>\n",
       "      <td>None</td>\n",
       "      <td>{ }</td>\n",
       "      <td>Black Metropolis-Bronzeville</td>\n",
       "      <td>905324400</td>\n",
       "    </tr>\n",
       "  </tbody>\n",
       "</table>\n",
       "</div>"
      ],
      "text/plain": [
       "                  sid                                    id  position  \\\n",
       "0  row-kyf5_yb7r.vrwc  00000000-0000-0000-E6B2-7767EA2D2877         0   \n",
       "1  row-g4ak.p5ja.8pv8  00000000-0000-0000-2D36-D11E47447804         0   \n",
       "2  row-shrt~gdnn~3kcf  00000000-0000-0000-9B11-357FA5616303         0   \n",
       "3  row-vapw~nh6d_sywy  00000000-0000-0000-7C6C-ACED956B631A         0   \n",
       "4  row-hmi5~yp2s.6ttw  00000000-0000-0000-EC91-F9519EBE1B46         0   \n",
       "\n",
       "   created_at created_meta  updated_at updated_meta meta  \\\n",
       "0  1566178027         None  1566178027         None  { }   \n",
       "1  1566178027         None  1566178027         None  { }   \n",
       "2  1566178027         None  1566178027         None  { }   \n",
       "3  1566178027         None  1566178027         None  { }   \n",
       "4  1566178027         None  1566178027         None  { }   \n",
       "\n",
       "                           district_name  designation_date  \n",
       "0                      Old Town Triangle         244278000  \n",
       "1                       Milwaukee Avenue        1207724400  \n",
       "2                           Astor Street         188208000  \n",
       "3  Beverly/Morgan Park Railroad Stations         797929200  \n",
       "4           Black Metropolis-Bronzeville         905324400  "
      ]
     },
     "execution_count": 6,
     "metadata": {},
     "output_type": "execute_result"
    }
   ],
   "source": [
    "# Chicago districts data \n",
    "with open('Datasets/chicago_districts.json', 'r') as f:\n",
    "    data = json.load(f)\n",
    "\n",
    "df = pd.DataFrame(data['data'],\n",
    "                            columns = ['sid', 'id', 'position', 'created_at', 'created_meta', 'updated_at',\n",
    "                                       'updated_meta', 'meta', 'district_name', 'designation_date'])\n",
    "df.head(5)"
   ]
  },
  {
   "cell_type": "code",
   "execution_count": 7,
   "metadata": {},
   "outputs": [
    {
     "name": "stdout",
     "output_type": "stream",
     "text": [
      "root\n",
      " |-- sid: string (nullable = true)\n",
      " |-- id: string (nullable = true)\n",
      " |-- position: string (nullable = true)\n",
      " |-- created_at: string (nullable = true)\n",
      " |-- created_meta: string (nullable = true)\n",
      " |-- updated_at: string (nullable = true)\n",
      " |-- updated_meta: string (nullable = true)\n",
      " |-- meta: string (nullable = true)\n",
      " |-- district_name: string (nullable = true)\n",
      " |-- designation_date: integer (nullable = true)\n",
      "\n"
     ]
    }
   ],
   "source": [
    "# create districts' spark dataframe with its schema\n",
    "schema = StructType([ \\\n",
    "    StructField(\"sid\",StringType(),True), \\\n",
    "    StructField(\"id\",StringType(),True), \\\n",
    "    StructField(\"position\",StringType(),True), \\\n",
    "    StructField(\"created_at\", StringType(), True), \\\n",
    "    StructField(\"created_meta\", StringType(), True), \\\n",
    "    StructField(\"updated_at\", StringType(), True), \\\n",
    "    StructField(\"updated_meta\", StringType(), True), \\\n",
    "    StructField(\"meta\", StringType(), True), \\\n",
    "    StructField(\"district_name\", StringType(), True), \\\n",
    "    StructField(\"designation_date\", IntegerType(), True) \\\n",
    "  ])\n",
    "districts_df = spark.createDataFrame(df, schema) \n",
    "districts_df.printSchema()"
   ]
  },
  {
   "cell_type": "code",
   "execution_count": 8,
   "metadata": {},
   "outputs": [
    {
     "data": {
      "text/plain": [
       "59"
      ]
     },
     "execution_count": 8,
     "metadata": {},
     "output_type": "execute_result"
    }
   ],
   "source": [
    "districts_df.count()"
   ]
  },
  {
   "cell_type": "markdown",
   "metadata": {},
   "source": [
    "### Step 2: Explore and Assess the Data\n",
    "#### Explore the Data \n",
    "Identify data quality issues, like missing values, duplicate data, etc."
   ]
  },
  {
   "cell_type": "code",
   "execution_count": 9,
   "metadata": {},
   "outputs": [
    {
     "name": "stdout",
     "output_type": "stream",
     "text": [
      "+----+--------+------------+-------------+-------------+-----------+\n",
      "|year|district|    latitude|    longitude| primary_type|crime_count|\n",
      "+----+--------+------------+-------------+-------------+-----------+\n",
      "|2001|       6|41.726587107|-87.628650815|OTHER OFFENSE|          1|\n",
      "|2001|       6|41.743292263|-87.601517412|      ROBBERY|          1|\n",
      "|2001|       7|41.784650088|-87.665708402|      ASSAULT|          2|\n",
      "|2001|      24|42.016181819|-87.666751351|      ROBBERY|          1|\n",
      "|2001|      10|41.861351884|-87.694550926|      BATTERY|          5|\n",
      "|2001|      14|41.917669402|-87.679950307|      BATTERY|          1|\n",
      "|2001|      10|41.856919058|-87.726270093|      BATTERY|          3|\n",
      "|2001|      20| 41.98537745|-87.657686188|      BATTERY|          1|\n",
      "|2001|      11|41.879549718|-87.705125189|      BATTERY|          2|\n",
      "|2001|       3|41.759980814| -87.56624795|      BATTERY|          2|\n",
      "+----+--------+------------+-------------+-------------+-----------+\n",
      "only showing top 10 rows\n",
      "\n"
     ]
    }
   ],
   "source": [
    "locations_df.show(10)"
   ]
  },
  {
   "cell_type": "code",
   "execution_count": 10,
   "metadata": {},
   "outputs": [
    {
     "name": "stdout",
     "output_type": "stream",
     "text": [
      "+-------+-----------------+------------------+-------------------+-------------------+-----------------+------------------+\n",
      "|summary|             year|          district|           latitude|          longitude|     primary_type|       crime_count|\n",
      "+-------+-----------------+------------------+-------------------+-------------------+-----------------+------------------+\n",
      "|  count|          5417807|           5417760|            5417807|            5417807|          5417807|           5417807|\n",
      "|   mean| 2009.78657859167|11.543600491716134|  41.84087468860387| -87.67337706996014|             null|1.3804805154557924|\n",
      "| stddev|5.989131793791821| 6.918199651874521|0.08832914173955167|0.05830104426599391|             null| 2.726444299721679|\n",
      "|    min|             2001|                 1|       41.644585429|      -87.939732936|            ARSON|                 1|\n",
      "|    max|             2022|                31|       42.022910333|      -87.524529378|WEAPONS VIOLATION|               746|\n",
      "+-------+-----------------+------------------+-------------------+-------------------+-----------------+------------------+\n",
      "\n"
     ]
    }
   ],
   "source": [
    "locations_df.describe().show()"
   ]
  },
  {
   "cell_type": "code",
   "execution_count": 11,
   "metadata": {},
   "outputs": [
    {
     "name": "stdout",
     "output_type": "stream",
     "text": [
      "+------------------+--------------------+--------+----------+------------+----------+------------+----+--------------------+----------------+\n",
      "|               sid|                  id|position|created_at|created_meta|updated_at|updated_meta|meta|       district_name|designation_date|\n",
      "+------------------+--------------------+--------+----------+------------+----------+------------+----+--------------------+----------------+\n",
      "|row-kyf5_yb7r.vrwc|00000000-0000-000...|       0|1566178027|        null|1566178027|        null| { }|   Old Town Triangle|       244278000|\n",
      "|row-g4ak.p5ja.8pv8|00000000-0000-000...|       0|1566178027|        null|1566178027|        null| { }|    Milwaukee Avenue|      1207724400|\n",
      "|row-shrt~gdnn~3kcf|00000000-0000-000...|       0|1566178027|        null|1566178027|        null| { }|        Astor Street|       188208000|\n",
      "|row-vapw~nh6d_sywy|00000000-0000-000...|       0|1566178027|        null|1566178027|        null| { }|Beverly/Morgan Pa...|       797929200|\n",
      "|row-hmi5~yp2s.6ttw|00000000-0000-000...|       0|1566178027|        null|1566178027|        null| { }|Black Metropolis-...|       905324400|\n",
      "|row-d46v_rema~eaar|00000000-0000-000...|       0|1566178027|        null|1566178027|        null| { }|     Surf-Pine Grove|      1184828400|\n",
      "|row-ywjr.knzx~iz6w|00000000-0000-000...|       0|1566178027|        null|1566178027|        null| { }|Five Houses on Av...|       762595200|\n",
      "|row-wucr.jth3.7ndd|00000000-0000-000...|       0|1566178027|        null|1566178027|        null| { }|     Hawthorne Place|       827827200|\n",
      "|row-swbf~4qf3~uatp|00000000-0000-000...|       0|1566178027|        null|1566178027|        null| { }|Historic Michigan...|      1014796800|\n",
      "|row-7hq9~d45f.gpeg|00000000-0000-000...|       0|1566178027|        null|1566178027|        null| { }|   Hutchinson Street|       241858800|\n",
      "+------------------+--------------------+--------+----------+------------+----------+------------+----+--------------------+----------------+\n",
      "only showing top 10 rows\n",
      "\n"
     ]
    }
   ],
   "source": [
    "districts_df.show(10)"
   ]
  },
  {
   "cell_type": "code",
   "execution_count": 12,
   "metadata": {},
   "outputs": [
    {
     "name": "stdout",
     "output_type": "stream",
     "text": [
      "+--------------------+---------+\n",
      "|        primary_type|max(year)|\n",
      "+--------------------+---------+\n",
      "|OFFENSE INVOLVING...|     2022|\n",
      "|CRIMINAL SEXUAL A...|     2022|\n",
      "|            STALKING|     2022|\n",
      "|PUBLIC PEACE VIOL...|     2022|\n",
      "|           OBSCENITY|     2022|\n",
      "|NON-CRIMINAL (SUB...|     2018|\n",
      "|               ARSON|     2022|\n",
      "|   DOMESTIC VIOLENCE|     2001|\n",
      "|            GAMBLING|     2022|\n",
      "|   CRIMINAL TRESPASS|     2022|\n",
      "|             ASSAULT|     2022|\n",
      "|LIQUOR LAW VIOLATION|     2022|\n",
      "| MOTOR VEHICLE THEFT|     2022|\n",
      "|               THEFT|     2022|\n",
      "|             BATTERY|     2022|\n",
      "|             ROBBERY|     2022|\n",
      "|            HOMICIDE|     2022|\n",
      "|           RITUALISM|     2020|\n",
      "|    PUBLIC INDECENCY|     2022|\n",
      "|   HUMAN TRAFFICKING|     2022|\n",
      "+--------------------+---------+\n",
      "only showing top 20 rows\n",
      "\n"
     ]
    }
   ],
   "source": [
    "# used this solution to find the max year:\n",
    "# https://stackoverflow.com/questions/38377894/how-to-get-maxdate-from-given-set-of-data-grouped-by-some-fields-using-pyspark\n",
    "# show latest date in CrimeDate table dataset\n",
    "temp_df = (locations_df.groupBy(\"primary_type\")\n",
    "    .agg(max(\"year\")))\n",
    "temp_df.show()"
   ]
  },
  {
   "cell_type": "code",
   "execution_count": 13,
   "metadata": {},
   "outputs": [
    {
     "name": "stdout",
     "output_type": "stream",
     "text": [
      "+--------+------+\n",
      "|district| count|\n",
      "+--------+------+\n",
      "|      31|   175|\n",
      "|      12|268369|\n",
      "|      22|197319|\n",
      "|    null|    47|\n",
      "|       1|126393|\n",
      "|       6|317012|\n",
      "|      16|189863|\n",
      "|       3|270634|\n",
      "|      20| 97069|\n",
      "|       5|255214|\n",
      "|      19|241873|\n",
      "|      15|228845|\n",
      "|      17|175945|\n",
      "|       9|288883|\n",
      "|       4|324153|\n",
      "|       8|392556|\n",
      "|       7|320362|\n",
      "|      10|248514|\n",
      "|      25|340574|\n",
      "|      24|175258|\n",
      "+--------+------+\n",
      "only showing top 20 rows\n",
      "\n"
     ]
    }
   ],
   "source": [
    "locations_nulls = locations_df.groupBy('district').count().show()"
   ]
  },
  {
   "cell_type": "markdown",
   "metadata": {},
   "source": [
    "#### Cleaning Steps\n",
    "1. drop all rows with 'district' is null -47 rows-.\n",
    "2. create corresponding table (Districts dimension) by joining locations_df and districts_df using 'district' column.\n",
    "3. create corresponding table (Primary Type dimension) by adding new column 'primary_type_code' with 'primary_type' to form the table.\n",
    "4. create corresponding table (Crimes fact table) by joining locations_df with Primary Type table and removing 'primary_type' column from locations_df to form the final fact table.\n",
    "5. aggregate the fact table to be grouped by 'year', 'district' and 'primary_type'."
   ]
  },
  {
   "cell_type": "code",
   "execution_count": 14,
   "metadata": {},
   "outputs": [
    {
     "data": {
      "text/plain": [
       "5417760"
      ]
     },
     "execution_count": 14,
     "metadata": {},
     "output_type": "execute_result"
    }
   ],
   "source": [
    "# 1. drop all rows with 'district' is null\n",
    "locations_df = locations_df.na.drop()\n",
    "locations_df.count()"
   ]
  },
  {
   "cell_type": "code",
   "execution_count": 15,
   "metadata": {},
   "outputs": [],
   "source": [
    "# 2. create Districts dimension\n",
    "districts_temp = districts_df.select(['district_name'])\n",
    "districts_temp = districts_temp.withColumn('district', row_number().over(Window.orderBy(monotonically_increasing_id())))"
   ]
  },
  {
   "cell_type": "code",
   "execution_count": 16,
   "metadata": {},
   "outputs": [
    {
     "name": "stdout",
     "output_type": "stream",
     "text": [
      "+--------------------+--------+\n",
      "|       district_name|district|\n",
      "+--------------------+--------+\n",
      "|   Old Town Triangle|       1|\n",
      "|    Milwaukee Avenue|       2|\n",
      "|        Astor Street|       3|\n",
      "|Beverly/Morgan Pa...|       4|\n",
      "|Black Metropolis-...|       5|\n",
      "|     Surf-Pine Grove|       6|\n",
      "|Five Houses on Av...|       7|\n",
      "|     Hawthorne Place|       8|\n",
      "|Historic Michigan...|       9|\n",
      "|   Hutchinson Street|      10|\n",
      "|Ukrainian Village...|      11|\n",
      "|           Motor Row|      12|\n",
      "|  Arlington & Roslyn|      13|\n",
      "|       Old Edgebrook|      14|\n",
      "|        East Village|      15|\n",
      "|  Printing House Row|      16|\n",
      "|             Pullman|      17|\n",
      "|               Villa|      18|\n",
      "|        Jewelers Row|      19|\n",
      "|Milwaukee-Diverse...|      20|\n",
      "+--------------------+--------+\n",
      "only showing top 20 rows\n",
      "\n"
     ]
    }
   ],
   "source": [
    "districts_temp.show()"
   ]
  },
  {
   "cell_type": "code",
   "execution_count": 17,
   "metadata": {},
   "outputs": [
    {
     "data": {
      "text/plain": [
       "59"
      ]
     },
     "execution_count": 17,
     "metadata": {},
     "output_type": "execute_result"
    }
   ],
   "source": [
    "districts_temp.count()"
   ]
  },
  {
   "cell_type": "code",
   "execution_count": 18,
   "metadata": {},
   "outputs": [
    {
     "name": "stdout",
     "output_type": "stream",
     "text": [
      "+--------+--------------------+------------+-------------+\n",
      "|district|       district_name|    latitude|    longitude|\n",
      "+--------+--------------------+------------+-------------+\n",
      "|      31| McCormick Row House|42.019387999|-87.535277004|\n",
      "|      12|           Motor Row|41.965391521| -87.60501807|\n",
      "|      22|Old Chicago Water...|41.855718661|-87.589645116|\n",
      "|       1|   Old Town Triangle|41.987404624|-87.549249732|\n",
      "|       6|     Surf-Pine Grove|42.018755041|-87.558095071|\n",
      "|      16|  Printing House Row| 42.01938364|-87.582560321|\n",
      "|       3|        Astor Street|41.799461412|-87.552612861|\n",
      "|      20|Milwaukee-Diverse...| 42.00458471|-87.629919733|\n",
      "|       5|Black Metropolis-...|41.886932776|-87.543478545|\n",
      "|      19|        Jewelers Row|41.983969039|-87.587747647|\n",
      "|      15|        East Village|41.942338896|-87.630867327|\n",
      "|       9|Historic Michigan...|41.976449458|-87.602820231|\n",
      "|      17|             Pullman| 42.01390135|-87.661310629|\n",
      "|       4|Beverly/Morgan Pa...| 41.79220444|-87.524529378|\n",
      "|       8|     Hawthorne Place|42.017646502|-87.552388532|\n",
      "|       7|Five Houses on Av...|42.013689346|-87.579063823|\n",
      "|      10|   Hutchinson Street|   41.943036|-87.618954852|\n",
      "|      25|North Kenwood Mul...|41.945863902|-87.640927827|\n",
      "|      24|   Burling Row House|42.022910333|-87.625448401|\n",
      "|      21|Old Chicago Water...|41.837900603| -87.62191544|\n",
      "+--------+--------------------+------------+-------------+\n",
      "only showing top 20 rows\n",
      "\n"
     ]
    }
   ],
   "source": [
    "locations_df_temp = (locations_df.groupBy(\"district\").agg(max(\"latitude\"), max(\"longitude\")))\n",
    "districts_dim = districts_temp.join(locations_df_temp, on=['district']  , how = 'inner').dropDuplicates()\n",
    "districts_dim = districts_dim.withColumnRenamed('max(latitude)', 'latitude')\n",
    "districts_dim = districts_dim.withColumnRenamed('max(longitude)', 'longitude')\n",
    "districts_dim = districts_dim.na.drop()\n",
    "districts_dim.show()"
   ]
  },
  {
   "cell_type": "code",
   "execution_count": 19,
   "metadata": {},
   "outputs": [
    {
     "data": {
      "text/plain": [
       "24"
      ]
     },
     "execution_count": 19,
     "metadata": {},
     "output_type": "execute_result"
    }
   ],
   "source": [
    "districts_dim.count()"
   ]
  },
  {
   "cell_type": "code",
   "execution_count": 20,
   "metadata": {},
   "outputs": [
    {
     "name": "stdout",
     "output_type": "stream",
     "text": [
      "+--------------------+-----------------+\n",
      "|        primary_type|primary_type_code|\n",
      "+--------------------+-----------------+\n",
      "|OFFENSE INVOLVING...|                1|\n",
      "|CRIMINAL SEXUAL A...|                2|\n",
      "|            STALKING|                3|\n",
      "|PUBLIC PEACE VIOL...|                4|\n",
      "|           OBSCENITY|                5|\n",
      "|NON-CRIMINAL (SUB...|                6|\n",
      "|               ARSON|                7|\n",
      "|   DOMESTIC VIOLENCE|                8|\n",
      "|            GAMBLING|                9|\n",
      "|   CRIMINAL TRESPASS|               10|\n",
      "|             ASSAULT|               11|\n",
      "|LIQUOR LAW VIOLATION|               12|\n",
      "| MOTOR VEHICLE THEFT|               13|\n",
      "|               THEFT|               14|\n",
      "|             BATTERY|               15|\n",
      "|             ROBBERY|               16|\n",
      "|            HOMICIDE|               17|\n",
      "|           RITUALISM|               18|\n",
      "|    PUBLIC INDECENCY|               19|\n",
      "|   HUMAN TRAFFICKING|               20|\n",
      "+--------------------+-----------------+\n",
      "only showing top 20 rows\n",
      "\n"
     ]
    }
   ],
   "source": [
    "# 3. create Primary Type dimension\n",
    "primary_type_dim = locations_df.select(['primary_type']).dropDuplicates()\n",
    "primary_type_dim = primary_type_dim.withColumn('primary_type_code', row_number().over(Window.orderBy(monotonically_increasing_id())))\n",
    "primary_type_dim.show()"
   ]
  },
  {
   "cell_type": "code",
   "execution_count": 21,
   "metadata": {},
   "outputs": [
    {
     "data": {
      "text/plain": [
       "34"
      ]
     },
     "execution_count": 21,
     "metadata": {},
     "output_type": "execute_result"
    }
   ],
   "source": [
    "primary_type_dim.count()"
   ]
  },
  {
   "cell_type": "code",
   "execution_count": 22,
   "metadata": {},
   "outputs": [
    {
     "name": "stdout",
     "output_type": "stream",
     "text": [
      "root\n",
      " |-- year: integer (nullable = true)\n",
      " |-- district: integer (nullable = true)\n",
      " |-- latitude: double (nullable = true)\n",
      " |-- longitude: double (nullable = true)\n",
      " |-- primary_type: string (nullable = true)\n",
      " |-- crime_count: integer (nullable = true)\n",
      "\n"
     ]
    }
   ],
   "source": [
    "locations_df.printSchema()"
   ]
  },
  {
   "cell_type": "code",
   "execution_count": 23,
   "metadata": {},
   "outputs": [
    {
     "name": "stdout",
     "output_type": "stream",
     "text": [
      "+----+--------+-----------------+-----------+\n",
      "|year|district|primary_type_code|crime_count|\n",
      "+----+--------+-----------------+-----------+\n",
      "|2001|      15|                1|          1|\n",
      "|2001|       6|                1|          1|\n",
      "|2001|      11|                1|          1|\n",
      "|2001|      22|                1|          1|\n",
      "|2001|       3|                1|          1|\n",
      "|2001|       7|                1|          1|\n",
      "|2001|      24|                1|          1|\n",
      "|2001|       5|                1|          1|\n",
      "|2001|      10|                1|          1|\n",
      "|2001|       5|                1|          2|\n",
      "|2001|      12|                1|          1|\n",
      "|2001|      17|                1|          1|\n",
      "|2001|       4|                1|          1|\n",
      "|2001|       8|                1|          1|\n",
      "|2001|       3|                1|          1|\n",
      "|2001|       5|                1|          1|\n",
      "|2001|      15|                1|          1|\n",
      "|2001|      24|                1|          1|\n",
      "|2001|       2|                1|          1|\n",
      "|2001|       2|                1|          1|\n",
      "+----+--------+-----------------+-----------+\n",
      "only showing top 20 rows\n",
      "\n"
     ]
    }
   ],
   "source": [
    "# 4. create Crimes fact table\n",
    "crimes_fact = locations_df.select(['year', 'district', 'primary_type', 'crime_count'])\n",
    "primary_type_dim_temp = primary_type_dim.select(['primary_type_code', 'primary_type'])\n",
    "\n",
    "crimes_fact = crimes_fact.join(primary_type_dim_temp, on=['primary_type']  , how = 'inner')\n",
    "crimes_fact = crimes_fact.select(['year', 'district', 'primary_type_code', 'crime_count'])\n",
    "crimes_fact.show()"
   ]
  },
  {
   "cell_type": "code",
   "execution_count": 24,
   "metadata": {},
   "outputs": [
    {
     "data": {
      "text/plain": [
       "5417760"
      ]
     },
     "execution_count": 24,
     "metadata": {},
     "output_type": "execute_result"
    }
   ],
   "source": [
    "crimes_fact.count()"
   ]
  },
  {
   "cell_type": "code",
   "execution_count": 25,
   "metadata": {},
   "outputs": [
    {
     "name": "stdout",
     "output_type": "stream",
     "text": [
      "+----+--------+-----------------+-----------+\n",
      "|year|district|primary_type_code|crime_count|\n",
      "+----+--------+-----------------+-----------+\n",
      "|2005|      12|                1|         81|\n",
      "|2017|       1|                2|         65|\n",
      "|2010|       7|                2|         91|\n",
      "|2008|      17|                3|          6|\n",
      "|2018|      25|                3|          7|\n",
      "|2009|      11|                3|          2|\n",
      "|2006|       2|                3|          5|\n",
      "|2021|      12|                3|         19|\n",
      "|2019|      25|                4|         89|\n",
      "|2020|      22|                4|         16|\n",
      "|2018|       4|                5|          7|\n",
      "|2021|       4|                7|         44|\n",
      "|2004|      24|                9|         39|\n",
      "|2009|      18|                9|          9|\n",
      "|2010|      24|                9|         11|\n",
      "|2002|      15|               10|        267|\n",
      "|2013|      14|               10|        223|\n",
      "|2014|       2|               10|        377|\n",
      "|2004|      22|               10|        371|\n",
      "|2011|       8|               10|        458|\n",
      "+----+--------+-----------------+-----------+\n",
      "only showing top 20 rows\n",
      "\n"
     ]
    }
   ],
   "source": [
    "# 5. fact table aggregation by 'year', 'district' and 'primary_type_code'\n",
    "crimes_fact = (crimes_fact.groupBy(\"year\", \"district\", \"primary_type_code\")\n",
    "    .agg(sum(\"crime_count\")))\n",
    "crimes_fact = crimes_fact.withColumnRenamed('sum(crime_count)', 'crime_count')\n",
    "crimes_fact.show()"
   ]
  },
  {
   "cell_type": "code",
   "execution_count": 26,
   "metadata": {},
   "outputs": [
    {
     "data": {
      "text/plain": [
       "12945"
      ]
     },
     "execution_count": 26,
     "metadata": {},
     "output_type": "execute_result"
    }
   ],
   "source": [
    "crimes_fact.count()"
   ]
  },
  {
   "cell_type": "markdown",
   "metadata": {},
   "source": [
    "### Step 3: Define the Data Model\n",
    "#### 3.1 Conceptual Data Model\n",
    "##### Data Model : \n",
    "<img src='images/ERD.png'>\n",
    "\n",
    "this was the last normalization level of the given data as it shows in the ERD.\n",
    "\n",
    "#### 3.2 Mapping Out Data Pipelines\n",
    "List the steps necessary to pipeline the data into the chosen data model\n",
    "\n",
    "1. create corresponding table (Districts dimension) by joining locations_df and districts_df using 'district' column.\n",
    "2. create corresponding table (Primary Type dimension) by adding new column 'primary_type_code' with 'primary_type' to form the table.\n",
    "3. create corresponding table (Crimes fact table) by joining locations_df with Primary Type table and removing 'primary_type' column from locations_df to form the final fact table.\n",
    "4. aggregate the fact table to be grouped by 'year', 'district' and 'primary_type'."
   ]
  },
  {
   "cell_type": "markdown",
   "metadata": {},
   "source": [
    "### Step 4: Run Pipelines to Model the Data \n",
    "#### 4.1 Create the data model\n",
    "\n",
    "already created the data model in the cleaning step as it results into:\n",
    "- districts_dim \n",
    "- primary_type_dim\n",
    "- crimes_fact\n",
    "\n",
    "will write the tables into parquet as follows:"
   ]
  },
  {
   "cell_type": "code",
   "execution_count": 27,
   "metadata": {},
   "outputs": [],
   "source": [
    "# districts_dim\n",
    "districts_dim.write.mode('overwrite').parquet(\"sas_data/districts_dim.parquet\")"
   ]
  },
  {
   "cell_type": "code",
   "execution_count": 28,
   "metadata": {},
   "outputs": [],
   "source": [
    "# primary_type_dim\n",
    "primary_type_dim.write.mode('overwrite').parquet(\"sas_data/primary_type_dim.parquet\")"
   ]
  },
  {
   "cell_type": "code",
   "execution_count": 29,
   "metadata": {},
   "outputs": [],
   "source": [
    "# crimes_dim\n",
    "crimes_fact.write.mode('overwrite').parquet(\"sas_data/crimes_fact.parquet\")"
   ]
  },
  {
   "cell_type": "markdown",
   "metadata": {},
   "source": [
    "#### 4.2 Data Quality Checks\n",
    "1. Schema check : to ensure that same data schema is used for each table.\n",
    "2. tables' count\\length to ensure that same data are retrieved.\n",
    " \n",
    "##### Run Quality Checks"
   ]
  },
  {
   "cell_type": "code",
   "execution_count": 30,
   "metadata": {},
   "outputs": [
    {
     "name": "stdout",
     "output_type": "stream",
     "text": [
      "root\n",
      " |-- district: integer (nullable = true)\n",
      " |-- district_name: string (nullable = true)\n",
      " |-- latitude: double (nullable = true)\n",
      " |-- longitude: double (nullable = true)\n",
      "\n"
     ]
    }
   ],
   "source": [
    "# Perform quality checks here\n",
    "# districts_dim\n",
    "districts_df_temp = spark.read.parquet(\"sas_data/districts_dim.parquet\")\n",
    "districts_df_temp.createOrReplaceTempView(\"districts_dim\")\n",
    "\n",
    "districts_df_temp.printSchema()"
   ]
  },
  {
   "cell_type": "code",
   "execution_count": 31,
   "metadata": {},
   "outputs": [
    {
     "data": {
      "text/plain": [
       "24"
      ]
     },
     "execution_count": 31,
     "metadata": {},
     "output_type": "execute_result"
    }
   ],
   "source": [
    "districts_df_temp.count()"
   ]
  },
  {
   "cell_type": "code",
   "execution_count": 32,
   "metadata": {},
   "outputs": [
    {
     "name": "stdout",
     "output_type": "stream",
     "text": [
      "root\n",
      " |-- primary_type: string (nullable = true)\n",
      " |-- primary_type_code: integer (nullable = true)\n",
      "\n"
     ]
    }
   ],
   "source": [
    "# primary_type_dim\n",
    "primary_type_temp = spark.read.parquet(\"sas_data/primary_type_dim.parquet\")\n",
    "primary_type_temp.createOrReplaceTempView(\"primary_type_dim\")\n",
    "\n",
    "primary_type_temp.printSchema()"
   ]
  },
  {
   "cell_type": "code",
   "execution_count": 33,
   "metadata": {},
   "outputs": [
    {
     "data": {
      "text/plain": [
       "34"
      ]
     },
     "execution_count": 33,
     "metadata": {},
     "output_type": "execute_result"
    }
   ],
   "source": [
    "primary_type_temp.count()"
   ]
  },
  {
   "cell_type": "code",
   "execution_count": 34,
   "metadata": {},
   "outputs": [
    {
     "name": "stdout",
     "output_type": "stream",
     "text": [
      "root\n",
      " |-- year: integer (nullable = true)\n",
      " |-- district: integer (nullable = true)\n",
      " |-- primary_type_code: integer (nullable = true)\n",
      " |-- crime_count: long (nullable = true)\n",
      "\n"
     ]
    }
   ],
   "source": [
    "# crimes_fact \n",
    "crimes_temp = spark.read.parquet(\"sas_data/crimes_fact.parquet\")\n",
    "crimes_temp.createOrReplaceTempView(\"crimes_fact\")\n",
    "\n",
    "crimes_temp.printSchema()"
   ]
  },
  {
   "cell_type": "code",
   "execution_count": 35,
   "metadata": {},
   "outputs": [
    {
     "data": {
      "text/plain": [
       "12945"
      ]
     },
     "execution_count": 35,
     "metadata": {},
     "output_type": "execute_result"
    }
   ],
   "source": [
    "crimes_temp.count()"
   ]
  },
  {
   "cell_type": "markdown",
   "metadata": {},
   "source": [
    "#### 4.3 Data dictionary \n",
    "Create a data dictionary for your data model. For each field, provide a brief description of what the data is and where it came from. You can include the data dictionary in the notebook or in a separate file.\n",
    "\n",
    "##### - Districts Dimension : \n",
    "| Attribute | Data-type | Description |\n",
    "| :-: | :-: | :-: |\n",
    "| district | int | district code as primary key\n",
    "| district_name | string | district name\n",
    "| latitude | double | district latitude\n",
    "| longitude | double | district longitude\n",
    "\n",
    "\n",
    "##### - Primary Type Dimension : \n",
    "| Attribute | Data-type | Description |\n",
    "| :-: | :-: | :-: |\n",
    "| primary_type_code | int | primary type code as primary key\n",
    "| primary_type | string | primary type which is crime description\n",
    "\n",
    "##### - Crimes Fact table : \n",
    "| Attribute | Data-type | Description |\n",
    "| :-: | :-: | :-: |\n",
    "| year | int | year in YYYY format\n",
    "| district | int | district code\n",
    "| primary_type_code | int | primary type code\n",
    "| crime_count | int | crimes count"
   ]
  },
  {
   "cell_type": "markdown",
   "metadata": {},
   "source": [
    "#### Step 5: Complete Project Write Up\n",
    "* Clearly state the rationale for the choice of tools and technologies for the project :\n",
    "used jupyter and pyspark as it's the fastest way to do data mining in less time with less efforts.\n",
    "\n",
    "* Propose how often the data should be updated and why :\n",
    "took the chicago crimes data from Kaggle and might be updated every half year or so.\n",
    "if it got updated, the data files will be uploaded again unless the data publisher provided an API or something to get data updated automatically.\n",
    "\n",
    "* Write a description of how you would approach the problem differently under the following scenarios:\n",
    " * The data was increased by 100x :\n",
    " in this case, should use a Redshift or Spark cluster to handle larger data and provide better results with less time and better performance that the local computer.\n",
    " \n",
    " * The data populates a dashboard that must be updated on a daily basis by 7am every day :\n",
    " should use scheduling service such as Airflow to schedule the updating job to be daily at 7 am.\n",
    " \n",
    " * The database needed to be accessed by 100+ people :\n",
    " should use Redshift to handle larger concurrent users as it can handle up to 2000 concurrent connections.\n",
    " \n",
    " * Future Development :\n",
    " - to have an automated data source rather than local source.\n",
    " - add crime-based level of data instead of aggregated level (here by primary_type).\n",
    " - create corrosponding cluster to handle all the data and its ETL.\n",
    " - schedule data updating job.\n",
    " - add more tables to give more useful data, such as crimes' full details -place, number of victims, police station, ..etc.- and criminals' data."
   ]
  },
  {
   "cell_type": "code",
   "execution_count": null,
   "metadata": {},
   "outputs": [],
   "source": []
  }
 ],
 "metadata": {
  "kernelspec": {
   "display_name": "Python 3",
   "language": "python",
   "name": "python3"
  },
  "language_info": {
   "codemirror_mode": {
    "name": "ipython",
    "version": 3
   },
   "file_extension": ".py",
   "mimetype": "text/x-python",
   "name": "python",
   "nbconvert_exporter": "python",
   "pygments_lexer": "ipython3",
   "version": "3.8.8"
  }
 },
 "nbformat": 4,
 "nbformat_minor": 4
}
