{
 "cells": [
  {
   "cell_type": "markdown",
   "metadata": {},
   "source": [
    "# Chicago Crimes Data Model\n",
    "### Data Engineering Capstone Project\n",
    "\n",
    "#### Project Summary\n",
    "the aim of this project is to build single-source-of-truth to help perform further analysis regarding Chicago crimes from the period Jan, 2001 till Jun, 2022.\n",
    "\n",
    "The project follows the follow steps:\n",
    "* Step 1: Scope the Project and Gather Data\n",
    "* Step 2: Explore and Assess the Data\n",
    "* Step 3: Define the Data Model\n",
    "* Step 4: Run ETL to Model the Data\n",
    "* Step 5: Complete Project Write Up"
   ]
  },
  {
   "cell_type": "code",
   "execution_count": 28,
   "metadata": {},
   "outputs": [],
   "source": [
    "# Do all imports and installs here\n",
    "import pandas as pd\n",
    "import json\n",
    "import pyspark\n",
    "from pyspark import SparkContext \n",
    "from pyspark.sql import SparkSession, SQLContext\n",
    "from pyspark.sql.types import StructType, StructField, StringType, IntegerType, DateType\n",
    "from pyspark.sql.functions import col, max "
   ]
  },
  {
   "cell_type": "code",
   "execution_count": 2,
   "metadata": {},
   "outputs": [],
   "source": [
    "from pyspark import SparkConf\n",
    "from pyspark import SparkContext\n",
    "sc = SparkContext.getOrCreate(SparkConf().setMaster(\"local[*]\"))"
   ]
  },
  {
   "cell_type": "markdown",
   "metadata": {},
   "source": [
    "### Step 1: Scope the Project and Gather Data\n",
    "\n",
    "#### Scope \n",
    "in this project, we'll establish a data model to prepare data for further analysis.\n",
    "this will be done by extracting, joining and forming the corresponding tables (Time, Districts, Primary Type Dimensions and Crimes Fact table).\n",
    "\n",
    "tools used in this project:\n",
    "- Jupyter Notebook.\n",
    "- Python.\n",
    "- PySpark library.\n",
    "\n",
    "#### Describe and Gather Data \n",
    "##### Chicago cimes data split into 3 tables:\n",
    "- CrimeDate:\n",
    "crimes data grouped by date and primary_type with crime, arrest and false counts.\n",
    "- CrimeDesc:\n",
    "crimes' description \n",
    "- CrimeLocation:\n",
    "\n",
    "##### Chicago districts data:\n",
    "json file from \n",
    "has districts' names.\n",
    "Describe the data sets you're using. Where did it come from? What type of information is included? "
   ]
  },
  {
   "cell_type": "code",
   "execution_count": 3,
   "metadata": {},
   "outputs": [],
   "source": [
    "spark = SparkSession.builder.appName('SparkByExamples.com').getOrCreate()\n",
    "# sc = pyspark.SparkContext(appName='SparkByExamples.com')"
   ]
  },
  {
   "cell_type": "code",
   "execution_count": 4,
   "metadata": {},
   "outputs": [
    {
     "name": "stdout",
     "output_type": "stream",
     "text": [
      "root\n",
      " |-- date: timestamp (nullable = true)\n",
      " |-- primary_type: string (nullable = true)\n",
      " |-- crime_count: integer (nullable = true)\n",
      " |-- arrest_count: integer (nullable = true)\n",
      " |-- false_count: integer (nullable = true)\n",
      "\n"
     ]
    }
   ],
   "source": [
    "# Read in the data here\n",
    "# df_columns = [\"date\", \"primary_type\", \"crime_count\", \"arrest_count\", \"false_count\"]\n",
    "dates_df = spark.read.csv(\"Datasets/CrimeDate.csv\",\n",
    "                          header='true', \n",
    "                          inferSchema='true')\n",
    "dates_df.printSchema()"
   ]
  },
  {
   "cell_type": "code",
   "execution_count": 5,
   "metadata": {},
   "outputs": [
    {
     "data": {
      "text/plain": [
       "123789"
      ]
     },
     "execution_count": 5,
     "metadata": {},
     "output_type": "execute_result"
    }
   ],
   "source": [
    "dates_df.count()"
   ]
  },
  {
   "cell_type": "code",
   "execution_count": 6,
   "metadata": {},
   "outputs": [
    {
     "name": "stdout",
     "output_type": "stream",
     "text": [
      "root\n",
      " |-- date: timestamp (nullable = true)\n",
      " |-- primary_type: string (nullable = true)\n",
      " |-- description: string (nullable = true)\n",
      "\n"
     ]
    }
   ],
   "source": [
    "crimes_df = spark.read.csv(\"Datasets/CrimeDesc.csv\",\n",
    "                          header='true', \n",
    "                          inferSchema='true')\n",
    "crimes_df.printSchema()"
   ]
  },
  {
   "cell_type": "code",
   "execution_count": 7,
   "metadata": {},
   "outputs": [
    {
     "data": {
      "text/plain": [
       "7479177"
      ]
     },
     "execution_count": 7,
     "metadata": {},
     "output_type": "execute_result"
    }
   ],
   "source": [
    "crimes_df.count()"
   ]
  },
  {
   "cell_type": "code",
   "execution_count": 8,
   "metadata": {},
   "outputs": [
    {
     "name": "stdout",
     "output_type": "stream",
     "text": [
      "root\n",
      " |-- year: integer (nullable = true)\n",
      " |-- district: integer (nullable = true)\n",
      " |-- latitude: double (nullable = true)\n",
      " |-- longitude: double (nullable = true)\n",
      " |-- primary_type: string (nullable = true)\n",
      " |-- crime_count: integer (nullable = true)\n",
      "\n"
     ]
    }
   ],
   "source": [
    "locations_df = spark.read.csv(\"Datasets/CrimeLocation.csv\",\n",
    "                              header='true',\n",
    "                              inferSchema='true')\n",
    "locations_df.printSchema()"
   ]
  },
  {
   "cell_type": "code",
   "execution_count": 9,
   "metadata": {},
   "outputs": [
    {
     "data": {
      "text/plain": [
       "5417807"
      ]
     },
     "execution_count": 9,
     "metadata": {},
     "output_type": "execute_result"
    }
   ],
   "source": [
    "locations_df.count()"
   ]
  },
  {
   "cell_type": "code",
   "execution_count": 10,
   "metadata": {},
   "outputs": [
    {
     "data": {
      "text/html": [
       "<div>\n",
       "<style scoped>\n",
       "    .dataframe tbody tr th:only-of-type {\n",
       "        vertical-align: middle;\n",
       "    }\n",
       "\n",
       "    .dataframe tbody tr th {\n",
       "        vertical-align: top;\n",
       "    }\n",
       "\n",
       "    .dataframe thead th {\n",
       "        text-align: right;\n",
       "    }\n",
       "</style>\n",
       "<table border=\"1\" class=\"dataframe\">\n",
       "  <thead>\n",
       "    <tr style=\"text-align: right;\">\n",
       "      <th></th>\n",
       "      <th>sid</th>\n",
       "      <th>id</th>\n",
       "      <th>position</th>\n",
       "      <th>created_at</th>\n",
       "      <th>created_meta</th>\n",
       "      <th>updated_at</th>\n",
       "      <th>updated_meta</th>\n",
       "      <th>meta</th>\n",
       "      <th>district_name</th>\n",
       "      <th>designation_date</th>\n",
       "    </tr>\n",
       "  </thead>\n",
       "  <tbody>\n",
       "    <tr>\n",
       "      <th>0</th>\n",
       "      <td>row-kyf5_yb7r.vrwc</td>\n",
       "      <td>00000000-0000-0000-E6B2-7767EA2D2877</td>\n",
       "      <td>0</td>\n",
       "      <td>1566178027</td>\n",
       "      <td>None</td>\n",
       "      <td>1566178027</td>\n",
       "      <td>None</td>\n",
       "      <td>{ }</td>\n",
       "      <td>Old Town Triangle</td>\n",
       "      <td>244278000</td>\n",
       "    </tr>\n",
       "    <tr>\n",
       "      <th>1</th>\n",
       "      <td>row-g4ak.p5ja.8pv8</td>\n",
       "      <td>00000000-0000-0000-2D36-D11E47447804</td>\n",
       "      <td>0</td>\n",
       "      <td>1566178027</td>\n",
       "      <td>None</td>\n",
       "      <td>1566178027</td>\n",
       "      <td>None</td>\n",
       "      <td>{ }</td>\n",
       "      <td>Milwaukee Avenue</td>\n",
       "      <td>1207724400</td>\n",
       "    </tr>\n",
       "    <tr>\n",
       "      <th>2</th>\n",
       "      <td>row-shrt~gdnn~3kcf</td>\n",
       "      <td>00000000-0000-0000-9B11-357FA5616303</td>\n",
       "      <td>0</td>\n",
       "      <td>1566178027</td>\n",
       "      <td>None</td>\n",
       "      <td>1566178027</td>\n",
       "      <td>None</td>\n",
       "      <td>{ }</td>\n",
       "      <td>Astor Street</td>\n",
       "      <td>188208000</td>\n",
       "    </tr>\n",
       "    <tr>\n",
       "      <th>3</th>\n",
       "      <td>row-vapw~nh6d_sywy</td>\n",
       "      <td>00000000-0000-0000-7C6C-ACED956B631A</td>\n",
       "      <td>0</td>\n",
       "      <td>1566178027</td>\n",
       "      <td>None</td>\n",
       "      <td>1566178027</td>\n",
       "      <td>None</td>\n",
       "      <td>{ }</td>\n",
       "      <td>Beverly/Morgan Park Railroad Stations</td>\n",
       "      <td>797929200</td>\n",
       "    </tr>\n",
       "    <tr>\n",
       "      <th>4</th>\n",
       "      <td>row-hmi5~yp2s.6ttw</td>\n",
       "      <td>00000000-0000-0000-EC91-F9519EBE1B46</td>\n",
       "      <td>0</td>\n",
       "      <td>1566178027</td>\n",
       "      <td>None</td>\n",
       "      <td>1566178027</td>\n",
       "      <td>None</td>\n",
       "      <td>{ }</td>\n",
       "      <td>Black Metropolis-Bronzeville</td>\n",
       "      <td>905324400</td>\n",
       "    </tr>\n",
       "  </tbody>\n",
       "</table>\n",
       "</div>"
      ],
      "text/plain": [
       "                  sid                                    id  position  \\\n",
       "0  row-kyf5_yb7r.vrwc  00000000-0000-0000-E6B2-7767EA2D2877         0   \n",
       "1  row-g4ak.p5ja.8pv8  00000000-0000-0000-2D36-D11E47447804         0   \n",
       "2  row-shrt~gdnn~3kcf  00000000-0000-0000-9B11-357FA5616303         0   \n",
       "3  row-vapw~nh6d_sywy  00000000-0000-0000-7C6C-ACED956B631A         0   \n",
       "4  row-hmi5~yp2s.6ttw  00000000-0000-0000-EC91-F9519EBE1B46         0   \n",
       "\n",
       "   created_at created_meta  updated_at updated_meta meta  \\\n",
       "0  1566178027         None  1566178027         None  { }   \n",
       "1  1566178027         None  1566178027         None  { }   \n",
       "2  1566178027         None  1566178027         None  { }   \n",
       "3  1566178027         None  1566178027         None  { }   \n",
       "4  1566178027         None  1566178027         None  { }   \n",
       "\n",
       "                           district_name  designation_date  \n",
       "0                      Old Town Triangle         244278000  \n",
       "1                       Milwaukee Avenue        1207724400  \n",
       "2                           Astor Street         188208000  \n",
       "3  Beverly/Morgan Park Railroad Stations         797929200  \n",
       "4           Black Metropolis-Bronzeville         905324400  "
      ]
     },
     "execution_count": 10,
     "metadata": {},
     "output_type": "execute_result"
    }
   ],
   "source": [
    "# Chicago districts data from:\n",
    "# https://data.cityofchicago.org/api/views/zidz-sdfj/rows.json?accessType=DOWNLOAD\n",
    "\n",
    "# sqlContext = SQLContext(spark.sparkContext)\n",
    "# districts_df = sqlContext.read.json('Datasets/chicago_districts.json')\n",
    "with open('Datasets/chicago_districts.json', 'r') as f:\n",
    "    data = json.load(f)\n",
    "\n",
    "df = pd.DataFrame(data['data'],\n",
    "                            columns = ['sid', 'id', 'position', 'created_at', 'created_meta', 'updated_at',\n",
    "                                       'updated_meta', 'meta', 'district_name', 'designation_date'])\n",
    "df.head(5)"
   ]
  },
  {
   "cell_type": "code",
   "execution_count": 11,
   "metadata": {},
   "outputs": [
    {
     "name": "stdout",
     "output_type": "stream",
     "text": [
      "root\n",
      " |-- sid: string (nullable = true)\n",
      " |-- id: string (nullable = true)\n",
      " |-- position: string (nullable = true)\n",
      " |-- created_at: string (nullable = true)\n",
      " |-- created_meta: string (nullable = true)\n",
      " |-- updated_at: string (nullable = true)\n",
      " |-- updated_meta: string (nullable = true)\n",
      " |-- meta: string (nullable = true)\n",
      " |-- district_name: string (nullable = true)\n",
      " |-- designation_date: integer (nullable = true)\n",
      "\n"
     ]
    }
   ],
   "source": [
    "schema = StructType([ \\\n",
    "    StructField(\"sid\",StringType(),True), \\\n",
    "    StructField(\"id\",StringType(),True), \\\n",
    "    StructField(\"position\",StringType(),True), \\\n",
    "    StructField(\"created_at\", StringType(), True), \\\n",
    "    StructField(\"created_meta\", StringType(), True), \\\n",
    "    StructField(\"updated_at\", StringType(), True), \\\n",
    "    StructField(\"updated_meta\", StringType(), True), \\\n",
    "    StructField(\"meta\", StringType(), True), \\\n",
    "    StructField(\"district_name\", StringType(), True), \\\n",
    "    StructField(\"designation_date\", IntegerType(), True) \\\n",
    "  ])\n",
    "districts_df = spark.createDataFrame(df, schema) \n",
    "districts_df.printSchema()"
   ]
  },
  {
   "cell_type": "code",
   "execution_count": 12,
   "metadata": {},
   "outputs": [
    {
     "data": {
      "text/plain": [
       "59"
      ]
     },
     "execution_count": 12,
     "metadata": {},
     "output_type": "execute_result"
    }
   ],
   "source": [
    "districts_df.count()"
   ]
  },
  {
   "cell_type": "markdown",
   "metadata": {},
   "source": [
    "### Step 2: Explore and Assess the Data\n",
    "#### Explore the Data \n",
    "Identify data quality issues, like missing values, duplicate data, etc."
   ]
  },
  {
   "cell_type": "code",
   "execution_count": 13,
   "metadata": {},
   "outputs": [
    {
     "name": "stdout",
     "output_type": "stream",
     "text": [
      "+-------------------+--------------------+-----------+------------+-----------+\n",
      "|               date|        primary_type|crime_count|arrest_count|false_count|\n",
      "+-------------------+--------------------+-----------+------------+-----------+\n",
      "|2001-01-01 00:00:00| MOTOR VEHICLE THEFT|         59|           9|         50|\n",
      "|2001-01-01 00:00:00|   WEAPONS VIOLATION|         32|          26|          6|\n",
      "|2001-01-01 00:00:00|  DECEPTIVE PRACTICE|         78|          16|         62|\n",
      "|2001-01-01 00:00:00|   CRIMINAL TRESPASS|         29|          17|         12|\n",
      "|2001-01-01 00:00:00|            GAMBLING|          2|           2|          0|\n",
      "|2001-01-01 00:00:00|             ROBBERY|         40|           5|         35|\n",
      "|2001-01-01 00:00:00|            BURGLARY|         65|           5|         60|\n",
      "|2001-01-01 00:00:00|INTERFERENCE WITH...|          1|           1|          0|\n",
      "|2001-01-01 00:00:00|PUBLIC PEACE VIOL...|          5|           2|          3|\n",
      "|2001-01-01 00:00:00|LIQUOR LAW VIOLATION|          3|           3|          0|\n",
      "+-------------------+--------------------+-----------+------------+-----------+\n",
      "only showing top 10 rows\n",
      "\n"
     ]
    }
   ],
   "source": [
    "dates_df.show(10)"
   ]
  },
  {
   "cell_type": "code",
   "execution_count": 14,
   "metadata": {},
   "outputs": [
    {
     "name": "stdout",
     "output_type": "stream",
     "text": [
      "+-------+-----------------+-----------------+------------------+-----------------+\n",
      "|summary|     primary_type|      crime_count|      arrest_count|      false_count|\n",
      "+-------+-----------------+-----------------+------------------+-----------------+\n",
      "|  count|           123789|           123788|            123788|           123788|\n",
      "|   mean|             null|53.59252108443468|15.081179112676512|38.51134197175817|\n",
      "| stddev|             null|66.06540926173342|27.042152198323155|56.28782463503632|\n",
      "|    min|            ARSON|                1|                 1|                0|\n",
      "|    max|WEAPONS VIOLATION|              559|               559|              437|\n",
      "+-------+-----------------+-----------------+------------------+-----------------+\n",
      "\n"
     ]
    }
   ],
   "source": [
    "dates_df.describe().show()"
   ]
  },
  {
   "cell_type": "code",
   "execution_count": 15,
   "metadata": {},
   "outputs": [
    {
     "name": "stdout",
     "output_type": "stream",
     "text": [
      "+-------------------+--------------------+--------------------+\n",
      "|               date|        primary_type|         description|\n",
      "+-------------------+--------------------+--------------------+\n",
      "|2001-01-01 00:00:00|OFFENSE INVOLVING...|AGG CRIM SEX ABUS...|\n",
      "|2001-01-01 00:00:00|     CRIMINAL DAMAGE|          TO VEHICLE|\n",
      "|2001-01-01 00:00:00|     CRIMINAL DAMAGE|          TO VEHICLE|\n",
      "|2001-01-01 00:00:00|           NARCOTICS|POSS: CANNABIS 30...|\n",
      "|2001-01-01 00:00:00|               THEFT|           OVER $500|\n",
      "|2001-01-01 00:00:00|       OTHER OFFENSE|    TELEPHONE THREAT|\n",
      "|2001-01-01 00:00:00|          KIDNAPPING|UNLAWFUL INTERFER...|\n",
      "|2001-01-01 00:00:00|           NARCOTICS|FOUND SUSPECT NAR...|\n",
      "|2001-01-01 00:00:00|               THEFT|           OVER $500|\n",
      "|2001-01-01 00:00:00|               THEFT|      $500 AND UNDER|\n",
      "+-------------------+--------------------+--------------------+\n",
      "only showing top 10 rows\n",
      "\n"
     ]
    }
   ],
   "source": [
    "crimes_df.show(10)"
   ]
  },
  {
   "cell_type": "code",
   "execution_count": 16,
   "metadata": {},
   "outputs": [
    {
     "name": "stdout",
     "output_type": "stream",
     "text": [
      "+-------+-----------------+---------------+\n",
      "|summary|     primary_type|    description|\n",
      "+-------+-----------------+---------------+\n",
      "|  count|          7479177|        7479177|\n",
      "|   mean|             null|           null|\n",
      "| stddev|             null|           null|\n",
      "|    min|            ARSON| $300 AND UNDER|\n",
      "|    max|WEAPONS VIOLATION|WIREROOM/SPORTS|\n",
      "+-------+-----------------+---------------+\n",
      "\n"
     ]
    }
   ],
   "source": [
    "crimes_df.describe().show()"
   ]
  },
  {
   "cell_type": "code",
   "execution_count": 17,
   "metadata": {},
   "outputs": [
    {
     "name": "stdout",
     "output_type": "stream",
     "text": [
      "+----+--------+------------+-------------+-------------+-----------+\n",
      "|year|district|    latitude|    longitude| primary_type|crime_count|\n",
      "+----+--------+------------+-------------+-------------+-----------+\n",
      "|2001|       6|41.726587107|-87.628650815|OTHER OFFENSE|          1|\n",
      "|2001|       6|41.743292263|-87.601517412|      ROBBERY|          1|\n",
      "|2001|       7|41.784650088|-87.665708402|      ASSAULT|          2|\n",
      "|2001|      24|42.016181819|-87.666751351|      ROBBERY|          1|\n",
      "|2001|      10|41.861351884|-87.694550926|      BATTERY|          5|\n",
      "|2001|      14|41.917669402|-87.679950307|      BATTERY|          1|\n",
      "|2001|      10|41.856919058|-87.726270093|      BATTERY|          3|\n",
      "|2001|      20| 41.98537745|-87.657686188|      BATTERY|          1|\n",
      "|2001|      11|41.879549718|-87.705125189|      BATTERY|          2|\n",
      "|2001|       3|41.759980814| -87.56624795|      BATTERY|          2|\n",
      "+----+--------+------------+-------------+-------------+-----------+\n",
      "only showing top 10 rows\n",
      "\n"
     ]
    }
   ],
   "source": [
    "locations_df.show(10)"
   ]
  },
  {
   "cell_type": "code",
   "execution_count": 18,
   "metadata": {},
   "outputs": [
    {
     "name": "stdout",
     "output_type": "stream",
     "text": [
      "+-------+-----------------+------------------+-------------------+-------------------+-----------------+------------------+\n",
      "|summary|             year|          district|           latitude|          longitude|     primary_type|       crime_count|\n",
      "+-------+-----------------+------------------+-------------------+-------------------+-----------------+------------------+\n",
      "|  count|          5417807|           5417760|            5417807|            5417807|          5417807|           5417807|\n",
      "|   mean| 2009.78657859167|11.543600491716134|  41.84087468860387| -87.67337706996014|             null|1.3804805154557924|\n",
      "| stddev|5.989131793791821| 6.918199651874521|0.08832914173955167|0.05830104426599391|             null| 2.726444299721679|\n",
      "|    min|             2001|                 1|       41.644585429|      -87.939732936|            ARSON|                 1|\n",
      "|    max|             2022|                31|       42.022910333|      -87.524529378|WEAPONS VIOLATION|               746|\n",
      "+-------+-----------------+------------------+-------------------+-------------------+-----------------+------------------+\n",
      "\n"
     ]
    }
   ],
   "source": [
    "locations_df.describe().show()"
   ]
  },
  {
   "cell_type": "code",
   "execution_count": 19,
   "metadata": {},
   "outputs": [
    {
     "name": "stdout",
     "output_type": "stream",
     "text": [
      "+------------------+--------------------+--------+----------+------------+----------+------------+----+--------------------+----------------+\n",
      "|               sid|                  id|position|created_at|created_meta|updated_at|updated_meta|meta|       district_name|designation_date|\n",
      "+------------------+--------------------+--------+----------+------------+----------+------------+----+--------------------+----------------+\n",
      "|row-kyf5_yb7r.vrwc|00000000-0000-000...|       0|1566178027|        null|1566178027|        null| { }|   Old Town Triangle|       244278000|\n",
      "|row-g4ak.p5ja.8pv8|00000000-0000-000...|       0|1566178027|        null|1566178027|        null| { }|    Milwaukee Avenue|      1207724400|\n",
      "|row-shrt~gdnn~3kcf|00000000-0000-000...|       0|1566178027|        null|1566178027|        null| { }|        Astor Street|       188208000|\n",
      "|row-vapw~nh6d_sywy|00000000-0000-000...|       0|1566178027|        null|1566178027|        null| { }|Beverly/Morgan Pa...|       797929200|\n",
      "|row-hmi5~yp2s.6ttw|00000000-0000-000...|       0|1566178027|        null|1566178027|        null| { }|Black Metropolis-...|       905324400|\n",
      "|row-d46v_rema~eaar|00000000-0000-000...|       0|1566178027|        null|1566178027|        null| { }|     Surf-Pine Grove|      1184828400|\n",
      "|row-ywjr.knzx~iz6w|00000000-0000-000...|       0|1566178027|        null|1566178027|        null| { }|Five Houses on Av...|       762595200|\n",
      "|row-wucr.jth3.7ndd|00000000-0000-000...|       0|1566178027|        null|1566178027|        null| { }|     Hawthorne Place|       827827200|\n",
      "|row-swbf~4qf3~uatp|00000000-0000-000...|       0|1566178027|        null|1566178027|        null| { }|Historic Michigan...|      1014796800|\n",
      "|row-7hq9~d45f.gpeg|00000000-0000-000...|       0|1566178027|        null|1566178027|        null| { }|   Hutchinson Street|       241858800|\n",
      "+------------------+--------------------+--------+----------+------------+----------+------------+----+--------------------+----------------+\n",
      "only showing top 10 rows\n",
      "\n"
     ]
    }
   ],
   "source": [
    "districts_df.show(10)"
   ]
  },
  {
   "cell_type": "code",
   "execution_count": 38,
   "metadata": {},
   "outputs": [
    {
     "name": "stdout",
     "output_type": "stream",
     "text": [
      "+--------------------+-------------------+\n",
      "|        primary_type|          max(date)|\n",
      "+--------------------+-------------------+\n",
      "|OFFENSE INVOLVING...|2019-01-09 00:00:00|\n",
      "|CRIMINAL SEXUAL A...|2019-01-12 00:00:00|\n",
      "|            STALKING|2019-01-12 00:00:00|\n",
      "|PUBLIC PEACE VIOL...|2019-01-12 00:00:00|\n",
      "|           OBSCENITY|2019-01-07 00:00:00|\n",
      "|NON-CRIMINAL (SUB...|2018-04-16 00:00:00|\n",
      "|               ARSON|2018-12-26 00:00:00|\n",
      "|   DOMESTIC VIOLENCE|2001-01-11 00:00:00|\n",
      "|            GAMBLING|2019-01-07 00:00:00|\n",
      "|   CRIMINAL TRESPASS|2019-01-13 00:00:00|\n",
      "|             ASSAULT|2019-01-13 00:00:00|\n",
      "|LIQUOR LAW VIOLATION|2019-01-12 00:00:00|\n",
      "|                   O|2019-01-13 00:00:00|\n",
      "| MOTOR VEHICLE THEFT|2019-01-12 00:00:00|\n",
      "|               THEFT|2019-01-13 00:00:00|\n",
      "|             BATTERY|2019-01-13 00:00:00|\n",
      "|             ROBBERY|2019-01-13 00:00:00|\n",
      "|            HOMICIDE|2019-01-12 00:00:00|\n",
      "|           RITUALISM|2006-02-28 00:00:00|\n",
      "|    PUBLIC INDECENCY|2018-12-19 00:00:00|\n",
      "+--------------------+-------------------+\n",
      "only showing top 20 rows\n",
      "\n"
     ]
    }
   ],
   "source": [
    "# used this solution to find the max:\n",
    "# https://stackoverflow.com/questions/38377894/how-to-get-maxdate-from-given-set-of-data-grouped-by-some-fields-using-pyspark\n",
    "# show latest date in CrimeDate table dataset\n",
    "(dates_df.withColumn(\"date\", col(\"date\").cast(\"timestamp\"))\n",
    "    .groupBy(\"primary_type\")\n",
    "    .agg(max(\"date\"))).show()"
   ]
  },
  {
   "cell_type": "code",
   "execution_count": 32,
   "metadata": {},
   "outputs": [
    {
     "name": "stdout",
     "output_type": "stream",
     "text": [
      "+--------------------+-------------------+\n",
      "|        primary_type|          max(date)|\n",
      "+--------------------+-------------------+\n",
      "|OFFENSE INVOLVING...|2022-06-14 00:00:00|\n",
      "|CRIMINAL SEXUAL A...|2022-06-14 00:00:00|\n",
      "|            STALKING|2022-06-09 00:00:00|\n",
      "|PUBLIC PEACE VIOL...|2022-06-14 00:00:00|\n",
      "|           OBSCENITY|2022-06-05 00:00:00|\n",
      "|NON-CRIMINAL (SUB...|2018-08-23 00:00:00|\n",
      "|               ARSON|2022-06-14 00:00:00|\n",
      "|   DOMESTIC VIOLENCE|2001-01-11 00:00:00|\n",
      "|            GAMBLING|2022-06-10 00:00:00|\n",
      "|   CRIMINAL TRESPASS|2022-06-14 00:00:00|\n",
      "|             ASSAULT|2022-06-14 00:00:00|\n",
      "|LIQUOR LAW VIOLATION|2022-06-14 00:00:00|\n",
      "| MOTOR VEHICLE THEFT|2022-06-14 00:00:00|\n",
      "|               THEFT|2022-06-14 00:00:00|\n",
      "|             BATTERY|2022-06-14 00:00:00|\n",
      "|             ROBBERY|2022-06-14 00:00:00|\n",
      "|            HOMICIDE|2022-06-12 00:00:00|\n",
      "|           RITUALISM|2020-11-17 00:00:00|\n",
      "|    PUBLIC INDECENCY|2022-05-31 00:00:00|\n",
      "|   HUMAN TRAFFICKING|2022-06-08 00:00:00|\n",
      "+--------------------+-------------------+\n",
      "only showing top 20 rows\n",
      "\n"
     ]
    }
   ],
   "source": [
    "# show latest date in CrimeDesc table dataset\n",
    "(crimes_df.withColumn(\"date\", col(\"date\").cast(\"timestamp\"))\n",
    "    .groupBy(\"primary_type\")\n",
    "    .agg(max(\"date\"))).show()"
   ]
  },
  {
   "cell_type": "code",
   "execution_count": 36,
   "metadata": {},
   "outputs": [
    {
     "name": "stdout",
     "output_type": "stream",
     "text": [
      "+--------------------+---------+\n",
      "|        primary_type|max(year)|\n",
      "+--------------------+---------+\n",
      "|OFFENSE INVOLVING...|     2022|\n",
      "|CRIMINAL SEXUAL A...|     2022|\n",
      "|            STALKING|     2022|\n",
      "|PUBLIC PEACE VIOL...|     2022|\n",
      "|           OBSCENITY|     2022|\n",
      "|NON-CRIMINAL (SUB...|     2018|\n",
      "|               ARSON|     2022|\n",
      "|   DOMESTIC VIOLENCE|     2001|\n",
      "|            GAMBLING|     2022|\n",
      "|   CRIMINAL TRESPASS|     2022|\n",
      "|             ASSAULT|     2022|\n",
      "|LIQUOR LAW VIOLATION|     2022|\n",
      "| MOTOR VEHICLE THEFT|     2022|\n",
      "|               THEFT|     2022|\n",
      "|             BATTERY|     2022|\n",
      "|             ROBBERY|     2022|\n",
      "|            HOMICIDE|     2022|\n",
      "|           RITUALISM|     2020|\n",
      "|    PUBLIC INDECENCY|     2022|\n",
      "|   HUMAN TRAFFICKING|     2022|\n",
      "+--------------------+---------+\n",
      "only showing top 20 rows\n",
      "\n"
     ]
    }
   ],
   "source": [
    "# show latest date in CrimeDate table dataset\n",
    "(locations_df.groupBy(\"primary_type\")\n",
    "    .agg(max(\"year\"))).show()"
   ]
  },
  {
   "cell_type": "markdown",
   "metadata": {},
   "source": [
    "#### Cleaning Steps\n",
    "Document steps necessary to clean the data"
   ]
  },
  {
   "cell_type": "code",
   "execution_count": null,
   "metadata": {},
   "outputs": [],
   "source": [
    "# Performing cleaning tasks here\n",
    "\n",
    "\n",
    "\n"
   ]
  },
  {
   "cell_type": "markdown",
   "metadata": {},
   "source": [
    "### Step 3: Define the Data Model\n",
    "#### 3.1 Conceptual Data Model\n",
    "Map out the conceptual data model and explain why you chose that model\n",
    "\n",
    "#### 3.2 Mapping Out Data Pipelines\n",
    "List the steps necessary to pipeline the data into the chosen data model"
   ]
  },
  {
   "cell_type": "markdown",
   "metadata": {},
   "source": [
    "### Step 4: Run Pipelines to Model the Data \n",
    "#### 4.1 Create the data model\n",
    "Build the data pipelines to create the data model."
   ]
  },
  {
   "cell_type": "code",
   "execution_count": null,
   "metadata": {},
   "outputs": [],
   "source": [
    "# Write code here"
   ]
  },
  {
   "cell_type": "markdown",
   "metadata": {},
   "source": [
    "#### 4.2 Data Quality Checks\n",
    "Explain the data quality checks you'll perform to ensure the pipeline ran as expected. These could include:\n",
    " * Integrity constraints on the relational database (e.g., unique key, data type, etc.)\n",
    " * Unit tests for the scripts to ensure they are doing the right thing\n",
    " * Source/Count checks to ensure completeness\n",
    " \n",
    "Run Quality Checks"
   ]
  },
  {
   "cell_type": "code",
   "execution_count": null,
   "metadata": {},
   "outputs": [],
   "source": [
    "# Perform quality checks here"
   ]
  },
  {
   "cell_type": "markdown",
   "metadata": {},
   "source": [
    "#### 4.3 Data dictionary \n",
    "Create a data dictionary for your data model. For each field, provide a brief description of what the data is and where it came from. You can include the data dictionary in the notebook or in a separate file."
   ]
  },
  {
   "cell_type": "markdown",
   "metadata": {},
   "source": [
    "#### Step 5: Complete Project Write Up\n",
    "* Clearly state the rationale for the choice of tools and technologies for the project.\n",
    "* Propose how often the data should be updated and why.\n",
    "* Write a description of how you would approach the problem differently under the following scenarios:\n",
    " * The data was increased by 100x.\n",
    " * The data populates a dashboard that must be updated on a daily basis by 7am every day.\n",
    " * The database needed to be accessed by 100+ people."
   ]
  },
  {
   "cell_type": "code",
   "execution_count": null,
   "metadata": {},
   "outputs": [],
   "source": []
  },
  {
   "cell_type": "code",
   "execution_count": null,
   "metadata": {},
   "outputs": [],
   "source": []
  },
  {
   "cell_type": "code",
   "execution_count": null,
   "metadata": {},
   "outputs": [],
   "source": []
  },
  {
   "cell_type": "code",
   "execution_count": null,
   "metadata": {},
   "outputs": [],
   "source": []
  },
  {
   "cell_type": "code",
   "execution_count": null,
   "metadata": {},
   "outputs": [],
   "source": []
  },
  {
   "cell_type": "code",
   "execution_count": null,
   "metadata": {},
   "outputs": [],
   "source": []
  }
 ],
 "metadata": {
  "kernelspec": {
   "display_name": "Python 3",
   "language": "python",
   "name": "python3"
  },
  "language_info": {
   "codemirror_mode": {
    "name": "ipython",
    "version": 3
   },
   "file_extension": ".py",
   "mimetype": "text/x-python",
   "name": "python",
   "nbconvert_exporter": "python",
   "pygments_lexer": "ipython3",
   "version": "3.8.8"
  }
 },
 "nbformat": 4,
 "nbformat_minor": 4
}
